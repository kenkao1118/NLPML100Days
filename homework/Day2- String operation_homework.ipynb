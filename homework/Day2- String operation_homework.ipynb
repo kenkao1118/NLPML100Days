{
 "cells": [
  {
   "cell_type": "code",
   "execution_count": 1,
   "metadata": {},
   "outputs": [
    {
     "name": "stdout",
     "output_type": "stream",
     "text": [
      "isnumeric_count: 4\n",
      "isdigit_count: 2\n",
      "isdecimal_count: 1\n",
      "Accuracy: 98.13%, Recall: 94.88%, Precision: 96.29%\n",
      "Accuracy: 98.13%, Recall: 94.88%, Precision: 96.29%\n",
      "3.14e+00\n",
      "314.16%\n",
      "3.14159300\n"
     ]
    }
   ],
   "source": [
    "#isnumeric(), isdigit(), isdecimal() 各有幾個\n",
    "\n",
    "test_string = ['5.9', '30', '½', '³', '⑬']\n",
    "\n",
    "\n",
    "def spam(s, isnumeric_count, isdigit_count, isdecimal_count): \n",
    "    for attr in ['isnumeric', 'isdecimal', 'isdigit']:\n",
    "        if getattr(s, attr)()==True:\n",
    "            if attr=='isnumeric':\n",
    "                isnumeric_count+=1\n",
    "            elif attr=='isdecimal':\n",
    "                isdecimal_count+=1\n",
    "            elif attr=='isdigit':\n",
    "                isdigit_count+=1\n",
    "    \n",
    "    return(isnumeric_count, isdigit_count, isdecimal_count)\n",
    "                \n",
    "\n",
    "isnumeric_count=0\n",
    "isdigit_count=0\n",
    "isdecimal_count=0    \n",
    "\n",
    "for string in test_string:\n",
    "    isnumeric_count,isdigit_count,isdecimal_count=spam(string,isnumeric_count,isdigit_count,isdecimal_count)\n",
    "\n",
    "print('isnumeric_count: {}'.format(isnumeric_count))     \n",
    "print('isdigit_count: {}'.format(isdigit_count))     \n",
    "print('isdecimal_count: {}'.format(isdecimal_count))  \n",
    "\n",
    "#運用formatting 技巧 output\n",
    "\n",
    "accuracy = 98.129393\n",
    "recall =   94.879583\n",
    "precision =96.294821\n",
    "\n",
    "print('Accuracy: {:.2f}%, Recall: {:.2f}%, Precision: {:.2f}%'.format(accuracy,recall,precision))\n",
    "\n",
    "accuracy = 0.98129393\n",
    "recall =   0.94879583\n",
    "precision =0.96294821\n",
    "\n",
    "print('Accuracy: {:.2%}, Recall: {:.2%}, Precision: {:.2%}'.format(accuracy,recall,precision))\n",
    "\n",
    "#依照只是轉換number output format\n",
    "\n",
    "number = 3.1415926\n",
    "\n",
    "print('%.2e' % number)\n",
    "\n",
    "print('{:.2%}'.format(number))\n",
    "\n",
    "print('%f00' % number)"
   ]
  },
  {
   "cell_type": "code",
   "execution_count": null,
   "metadata": {},
   "outputs": [],
   "source": []
  }
 ],
 "metadata": {
  "kernelspec": {
   "display_name": "Python 3",
   "language": "python",
   "name": "python3"
  },
  "language_info": {
   "codemirror_mode": {
    "name": "ipython",
    "version": 3
   },
   "file_extension": ".py",
   "mimetype": "text/x-python",
   "name": "python",
   "nbconvert_exporter": "python",
   "pygments_lexer": "ipython3",
   "version": "3.7.4"
  }
 },
 "nbformat": 4,
 "nbformat_minor": 2
}
